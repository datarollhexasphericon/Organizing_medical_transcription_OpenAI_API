{
 "cells": [
  {
   "cell_type": "code",
   "execution_count": 4,
   "id": "dafe594a-e319-4fbe-a7e5-7e942c695564",
   "metadata": {},
   "outputs": [],
   "source": [
    "# Import the necessary libraries\n",
    "import pandas as pd\n",
    "from openai import OpenAI\n",
    "import json\n",
    "import os\n",
    "from tenacity import retry,stop_after_attempt, wait_random_exponential"
   ]
  },
  {
   "cell_type": "code",
   "execution_count": 5,
   "id": "8ac451c7-ba30-4d13-989a-80dcb30ef70d",
   "metadata": {},
   "outputs": [
    {
     "name": "stdout",
     "output_type": "stream",
     "text": [
      "   Unnamed: 0                                        description  \\\n",
      "0           0   A 23-year-old white female presents with comp...   \n",
      "1           1           Consult for laparoscopic gastric bypass.   \n",
      "2           2           Consult for laparoscopic gastric bypass.   \n",
      "3           3                             2-D M-Mode. Doppler.     \n",
      "4           4                                 2-D Echocardiogram   \n",
      "\n",
      "             medical_specialty                                sample_name  \\\n",
      "0         Allergy / Immunology                         Allergic Rhinitis    \n",
      "1                   Bariatrics   Laparoscopic Gastric Bypass Consult - 2    \n",
      "2                   Bariatrics   Laparoscopic Gastric Bypass Consult - 1    \n",
      "3   Cardiovascular / Pulmonary                    2-D Echocardiogram - 1    \n",
      "4   Cardiovascular / Pulmonary                    2-D Echocardiogram - 2    \n",
      "\n",
      "                                       transcription  \\\n",
      "0  SUBJECTIVE:,  This 23-year-old white female pr...   \n",
      "1  PAST MEDICAL HISTORY:, He has difficulty climb...   \n",
      "2  HISTORY OF PRESENT ILLNESS: , I have seen ABC ...   \n",
      "3  2-D M-MODE: , ,1.  Left atrial enlargement wit...   \n",
      "4  1.  The left ventricular cavity size and wall ...   \n",
      "\n",
      "                                            keywords  \n",
      "0  allergy / immunology, allergic rhinitis, aller...  \n",
      "1  bariatrics, laparoscopic gastric bypass, weigh...  \n",
      "2  bariatrics, laparoscopic gastric bypass, heart...  \n",
      "3  cardiovascular / pulmonary, 2-d m-mode, dopple...  \n",
      "4  cardiovascular / pulmonary, 2-d, doppler, echo...  \n"
     ]
    }
   ],
   "source": [
    "# Load the data\n",
    "df = pd.read_csv(\"mtsamples.csv\")\n",
    "print(df.head())"
   ]
  },
  {
   "cell_type": "code",
   "execution_count": 6,
   "id": "4be27520-eb30-4e22-b18a-1a3a221f1b6b",
   "metadata": {},
   "outputs": [],
   "source": [
    "# OpenAI API specifications\n",
    "client = OpenAI(api_key=os.environ.get('OPENAI_KEY'))\n",
    "model = \"gpt-4o-mini\""
   ]
  },
  {
   "cell_type": "code",
   "execution_count": 7,
   "id": "b5c96da0-3cfc-4b2e-8ad5-42de6c873b6c",
   "metadata": {},
   "outputs": [],
   "source": [
    "# System guidelines\n",
    "system_prompt = (\"You are a highly knowledgeable and efficient assistant designed to extract specific and relevant information from medical transcripts. Your primary goal is to identify key medical information accurately and concisely. Ensure the information is free of any irrelevant details, maintains confidentiality and respects patient privacy. Don't make assumptions about what values to plug unto functions. Don't make up values to fill the response with.\")"
   ]
  },
  {
   "cell_type": "code",
   "execution_count": 8,
   "id": "1108e733-189e-4aaf-acc8-2fde9275dcb6",
   "metadata": {},
   "outputs": [],
   "source": [
    "# Defining function calling for the completions endpoint\n",
    "function_definition = [\n",
    "    {\n",
    "    'type': 'function',\n",
    "    'function':{\n",
    "        'name': \"extract_medical_info\",\n",
    "        \"description\": \"Extract the medical information from the input medical transcipt.\",\n",
    "        \"parameters\": {\n",
    "            'type': \"object\",\n",
    "            'properties': {\n",
    "                'medical_speciality': {\"type\": \"string\", \"description\": \"The medical speciality the transcript belongs to.\"},\n",
    "                'age': {\"type\": \"string\", \"description\": \"The age of the patient.\"},\n",
    "                'recommended_treatment': {\"type\": \"string\", \"description\": \"The recommended treatment of the patient.\"}},\n",
    "            'required': [\"medical_speciality\", \"age\", \"recommended_treatment\"]\n",
    "        }}},\n",
    "    {\n",
    "    'type': 'function',\n",
    "    'function':{\n",
    "        'name': \"find_icd_code\",\n",
    "        \"description\": \"Return the International Classification of Diseases (ICD) code corresponding to the disease in the input medical transcipt. Return NA if no ICD code can be determined.\",\n",
    "        \"parameters\": {\n",
    "            'type': \"object\",\n",
    "            'properties': {\n",
    "                'disease': {\"type\": \"string\", \"description\": \"The patient's disease.\"},\n",
    "                'icd_code': {\"type\": \"string\", \"description\": \"The ICD code of the medical disease.\"}\n",
    "            },\n",
    "            'required': [\"disease\", \"icd_code\"]\n",
    "        }}}\n",
    "]"
   ]
  },
  {
   "cell_type": "code",
   "execution_count": 9,
   "id": "222883c6-b282-451f-8124-0b8e7f67062e",
   "metadata": {},
   "outputs": [],
   "source": [
    "# The chat completions function to extract required info\n",
    "@retry(wait=wait_random_exponential(min=1, max=60), stop=stop_after_attempt(6))\n",
    "def extract_info(dataframe):\n",
    "    extracted_data = []\n",
    "\n",
    "    for index, row in dataframe.iterrows():\n",
    "        input_text = f\"Medical Specialty: {row['medical_specialty']}\\nDescription: {row['description']}\\nTranscription: {row['transcription']}\"\n",
    "        \n",
    "        try:\n",
    "            response = client.chat.completions.create(\n",
    "                model=model, \n",
    "                max_tokens=200,\n",
    "                messages=[\n",
    "                    {\"role\": \"system\", \"content\": system_prompt},\n",
    "                    {\"role\": \"user\", \"content\": input_text}\n",
    "                ],\n",
    "                tools=function_definition,\n",
    "                temperature=0\n",
    "            )\n",
    "            \n",
    "            if response.choices[0].finish_reason == 'tool_calls':\n",
    "                \n",
    "                extracted_info = json.loads(response.choices[0].message.tool_calls[0].function.arguments)\n",
    "                medical_speciality = extracted_info['medical_speciality']\n",
    "                patient_age = extracted_info['age']\n",
    "                recommended_treatment = extracted_info['recommended_treatment']\n",
    "                \n",
    "                icd_info = json.loads(response.choices[0].message.tool_calls[1].function.arguments)\n",
    "                disease = icd_info['disease']\n",
    "                icd_code = icd_info['icd_code']\n",
    "                \n",
    "                extracted_data.append({\n",
    "                    \"medical_specialty\": medical_speciality,\n",
    "                    \"patient_age\": patient_age,\n",
    "                    \"disease\": disease,\n",
    "                    \"icd_code\": icd_code,\n",
    "                    \"recommended_treatment\": recommended_treatment\n",
    "                })\n",
    "\n",
    "        except openai.AuthenticationError as e:\n",
    "            print(f\"OpenAI API failed to authenticate: {e}\")\n",
    "            pass\n",
    "        except openai.RateLimitError as e:\n",
    "            print(f\"OpenAI API request exceeded rate limit: {e}\")\n",
    "            pass\n",
    "        except Exception as e:\n",
    "            print(f\"Unable to generate a response. Exception: {e}\")\n",
    "            pass\n",
    "\n",
    "    return extracted_data"
   ]
  },
  {
   "cell_type": "code",
   "execution_count": null,
   "id": "2cb835b5-86fe-408c-ad87-5f8d82ab64f8",
   "metadata": {},
   "outputs": [],
   "source": [
    "extracted_data = extract_info(df)"
   ]
  },
  {
   "cell_type": "code",
   "execution_count": null,
   "id": "626cb22e-8d1f-4184-8b57-bb11ad481e2d",
   "metadata": {},
   "outputs": [],
   "source": [
    "# Save the output to a pandas dataframe\n",
    "df_structured = pd.DataFrame(extracted_data)"
   ]
  },
  {
   "cell_type": "code",
   "execution_count": null,
   "id": "5af49b17-feb1-4f05-8687-a16e203ff94d",
   "metadata": {},
   "outputs": [],
   "source": [
    "# Export to a csv file\n",
    "df_structured.to_csv(\"structured_transcriptions.csv\", index=False)"
   ]
  },
  {
   "cell_type": "code",
   "execution_count": null,
   "id": "91d94dcd-9873-4d9f-ae44-6cf2c574d6bf",
   "metadata": {},
   "outputs": [],
   "source": []
  }
 ],
 "metadata": {
  "kernelspec": {
   "display_name": "Python 3 (ipykernel)",
   "language": "python",
   "name": "python3"
  },
  "language_info": {
   "codemirror_mode": {
    "name": "ipython",
    "version": 3
   },
   "file_extension": ".py",
   "mimetype": "text/x-python",
   "name": "python",
   "nbconvert_exporter": "python",
   "pygments_lexer": "ipython3",
   "version": "3.12.0"
  }
 },
 "nbformat": 4,
 "nbformat_minor": 5
}
